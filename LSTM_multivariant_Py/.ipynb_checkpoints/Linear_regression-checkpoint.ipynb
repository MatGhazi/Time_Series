{
 "cells": [
  {
   "cell_type": "code",
   "execution_count": 1,
   "id": "56021074-ac36-407b-8a88-2211950e16cf",
   "metadata": {},
   "outputs": [
    {
     "name": "stderr",
     "output_type": "stream",
     "text": [
      "D:\\Projects\\Conda\\lib\\site-packages\\scipy\\__init__.py:146: UserWarning: A NumPy version >=1.16.5 and <1.23.0 is required for this version of SciPy (detected version 1.23.3\n",
      "  warnings.warn(f\"A NumPy version >={np_minversion} and <{np_maxversion}\"\n"
     ]
    }
   ],
   "source": [
    "import pandas as pd\n",
    "import numpy as np\n",
    "from sklearn import preprocessing;\n",
    "from sklearn.model_selection import train_test_split;\n",
    "from sklearn import linear_model;\n",
    "import matplotlib.pyplot as plt"
   ]
  },
  {
   "cell_type": "code",
   "execution_count": null,
   "id": "68a0b49a-614c-434c-b3dd-b0173130e263",
   "metadata": {},
   "outputs": [],
   "source": []
  },
  {
   "cell_type": "code",
   "execution_count": null,
   "id": "a7b8a96b-1d0d-4633-b0b3-9c5178c9b67c",
   "metadata": {},
   "outputs": [],
   "source": [
    "\n",
    "prices_df = pd.read_csv('prices.csv')\n",
    "\n",
    "close_google = pd.DataFrame(prices_df.low[prices_df.symbol=='GOOG'])\n",
    "#close_google.plot()\n",
    "\n",
    "\n",
    "\n",
    "forecast_out = 5 \n",
    "test_size = 0.2; \n",
    "df = close_google\n"
   ]
  },
  {
   "cell_type": "code",
   "execution_count": null,
   "id": "5898d7e4-94ad-4323-8538-8a1eb2f190a4",
   "metadata": {},
   "outputs": [],
   "source": [
    "\n",
    "label = df.shift(-forecast_out);\n",
    "X = np.array(df); \n",
    "X = preprocessing.scale(X) \n",
    "#plt.plot(X)\n",
    "\n",
    "\n",
    "X_lately = X[-forecast_out:] \n",
    "X = X[:-forecast_out] \n",
    "label.dropna(inplace=True)\n",
    "y = np.array(label) \n",
    "\n",
    "X_train, X_test, Y_train, Y_test = train_test_split(X, y, test_size=test_size) \n",
    "plt.scatter(X_train, Y_train)\n",
    "plt.show()\n",
    "\n",
    "learner = linear_model.LinearRegression() \n",
    "\n",
    "learner.fit(X_train,Y_train); \n",
    "score=learner.score(X_test,Y_test)\n",
    "\n",
    "forecast = learner.predict(X_lately) \n",
    "\n",
    "response = {}\n",
    "response['test_score'] = score\n",
    "response['forecast_set'] = forecast\n",
    "\n",
    "print(response);"
   ]
  }
 ],
 "metadata": {
  "kernelspec": {
   "display_name": "Python [conda env:root] *",
   "language": "python",
   "name": "conda-root-py"
  },
  "language_info": {
   "codemirror_mode": {
    "name": "ipython",
    "version": 3
   },
   "file_extension": ".py",
   "mimetype": "text/x-python",
   "name": "python",
   "nbconvert_exporter": "python",
   "pygments_lexer": "ipython3",
   "version": "3.9.12"
  }
 },
 "nbformat": 4,
 "nbformat_minor": 5
}
